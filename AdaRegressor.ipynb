{
 "cells": [
  {
   "cell_type": "code",
   "execution_count": 1,
   "metadata": {},
   "outputs": [],
   "source": [
    "import pandas as pd\n",
    "import seaborn as sns\n",
    "import matplotlib.pyplot as plt\n",
    "import numpy as np\n",
    "\n",
    "from sklearn.ensemble import AdaBoostRegressor\n",
    "from sklearn.datasets import make_regression"
   ]
  },
  {
   "cell_type": "code",
   "execution_count": 2,
   "metadata": {},
   "outputs": [],
   "source": [
    "df = pd.read_csv('dataset_clean.csv')"
   ]
  },
  {
   "cell_type": "markdown",
   "metadata": {},
   "source": [
    "## Train Test Split"
   ]
  },
  {
   "cell_type": "code",
   "execution_count": 3,
   "metadata": {},
   "outputs": [],
   "source": [
    "from sklearn.model_selection import train_test_split"
   ]
  },
  {
   "cell_type": "code",
   "execution_count": 4,
   "metadata": {},
   "outputs": [],
   "source": [
    "RSEED = 101"
   ]
  },
  {
   "cell_type": "code",
   "execution_count": 5,
   "metadata": {},
   "outputs": [
    {
     "data": {
      "text/plain": [
       "Index(['Date', 'price', 'res_load', 'temp', 'wind', 'gen_total', 'gen_bio',\n",
       "       'gen_hyd', 'gen_windoff', 'gen_windon', 'gen_pv', 'gen_reother',\n",
       "       'gen_nuc', 'gen_bcoal', 'gen_hcoal', 'gen_gas', 'gen_pump', 'gen_other',\n",
       "       'gen_f_total', 'gen_f_windoff', 'gen_f_windon', 'gen_f_pv',\n",
       "       'gen_f_other', 'dm', 'dm_f', 'netex', 'mres+', 'mres-', 'sres+',\n",
       "       'sres-', 'FF', 'gen_delta', 'gen_windoff_delta', 'gen_windon_delta',\n",
       "       'gen_pv_delta', 'dm_delta', 'dm_gen_delta', 'dm_gen_ratio', 'day',\n",
       "       'weekend', 'month', 'season', 'hour', 'peak', 'lag1', 'price_change',\n",
       "       'price_diff', 'price_diff_pos', 'price_pos', 'price_diff_bins'],\n",
       "      dtype='object')"
      ]
     },
     "execution_count": 5,
     "metadata": {},
     "output_type": "execute_result"
    }
   ],
   "source": [
    "df.columns"
   ]
  },
  {
   "cell_type": "code",
   "execution_count": 6,
   "metadata": {},
   "outputs": [],
   "source": [
    "X1 = df[['res_load', 'temp', 'wind', 'gen_total', 'gen_bio',\n",
    "       'gen_hyd', 'gen_windoff', 'gen_windon', 'gen_pv', 'gen_reother',\n",
    "       'gen_nuc', 'gen_bcoal', 'gen_hcoal', 'gen_gas', 'gen_pump', 'gen_other',\n",
    "       'gen_f_total', 'gen_f_windoff', 'gen_f_windon', 'gen_f_pv',\n",
    "       'gen_f_other', 'dm', 'dm_f', 'netex', 'mres+', 'gen_delta', 'gen_windoff_delta', 'gen_windon_delta',\n",
    "       'gen_pv_delta', 'dm_delta', 'day', 'month', 'season', 'hour',\n",
    "       'peak']]"
   ]
  },
  {
   "cell_type": "code",
   "execution_count": 17,
   "metadata": {},
   "outputs": [],
   "source": [
    "X = X1\n",
    "y = df.price\n",
    "\n",
    "X_train, X_test, y_train, y_test = train_test_split(X, y, random_state=RSEED)"
   ]
  },
  {
   "cell_type": "markdown",
   "metadata": {},
   "source": [
    "## Scaling"
   ]
  },
  {
   "cell_type": "code",
   "execution_count": 13,
   "metadata": {},
   "outputs": [],
   "source": [
    "from sklearn.preprocessing import MinMaxScaler\n",
    "\n",
    "scaler = MinMaxScaler(feature_range = (0, 1))\n",
    "\n",
    "scaler.fit(X_train)\n",
    "X_train = scaler.transform(X_train)\n",
    "X_test = scaler.transform(X_test)"
   ]
  },
  {
   "cell_type": "markdown",
   "metadata": {},
   "source": [
    "## AdaBoost"
   ]
  },
  {
   "cell_type": "code",
   "execution_count": 8,
   "metadata": {},
   "outputs": [],
   "source": [
    "ada = AdaBoostRegressor(random_state=RSEED, n_estimators=100)\n",
    "ada.fit(X_train, y_train)\n",
    "predictions = ada.predict(X_test)"
   ]
  },
  {
   "cell_type": "code",
   "execution_count": 9,
   "metadata": {},
   "outputs": [
    {
     "name": "stdout",
     "output_type": "stream",
     "text": [
      "Mean Absolute Error: 6.31636\n",
      "Mean Squared Error: 65.01985\n",
      "R-squared scores: 0.78808\n",
      "Explained Variance Score: 0.7595\n"
     ]
    }
   ],
   "source": [
    "from sklearn.metrics import mean_squared_error, r2_score, mean_absolute_error, explained_variance_score\n",
    "\n",
    "# Mean absolute error (MAE)\n",
    "mae = mean_absolute_error(y_test.values.ravel(), predictions)\n",
    "\n",
    "# Mean squared error (MSE)\n",
    "mse = mean_squared_error(y_test.values.ravel(), predictions)\n",
    "\n",
    "# R-squared scores\n",
    "r2 = r2_score(y_test.values.ravel(), predictions)\n",
    "\n",
    "# Explained Variance Score\n",
    "evs = explained_variance_score(predictions, y_test)\n",
    "\n",
    "# Print metrics\n",
    "print('Mean Absolute Error:', round(mae, 5))\n",
    "print('Mean Squared Error:', round(mse, 5))\n",
    "print('R-squared scores:', round(r2, 5))\n",
    "print('Explained Variance Score:', round(evs, 5))"
   ]
  },
  {
   "cell_type": "markdown",
   "metadata": {},
   "source": [
    "## Hyperparameter Tuning via Randomized Search"
   ]
  },
  {
   "cell_type": "code",
   "execution_count": 24,
   "metadata": {},
   "outputs": [
    {
     "data": {
      "text/plain": [
       "RandomizedSearchCV(cv=3, error_score='raise-deprecating',\n",
       "                   estimator=AdaBoostRegressor(base_estimator=None,\n",
       "                                               learning_rate=1.0, loss='linear',\n",
       "                                               n_estimators=50,\n",
       "                                               random_state=None),\n",
       "                   iid='warn', n_iter=10, n_jobs=-1,\n",
       "                   param_distributions={'learning_rate': [0.1, 0.5, 1],\n",
       "                                        'loss': ['linear', 'square',\n",
       "                                                 'exponential'],\n",
       "                                        'n_estimators': [5, 100]},\n",
       "                   pre_dispatch='2*n_jobs', random_state=None, refit=True,\n",
       "                   return_train_score=False, scoring=None, verbose=0)"
      ]
     },
     "execution_count": 24,
     "metadata": {},
     "output_type": "execute_result"
    }
   ],
   "source": [
    "from sklearn.ensemble import AdaBoostRegressor\n",
    "from sklearn.model_selection import RandomizedSearchCV\n",
    "\n",
    "param_dist = {\n",
    " 'n_estimators': [5, 100],\n",
    " 'learning_rate' : [0.1,0.5,1],\n",
    " 'loss' : ['linear', 'square', 'exponential']\n",
    " }\n",
    "\n",
    "pre_gs_inst = RandomizedSearchCV(AdaBoostRegressor(),\n",
    "param_distributions = param_dist,\n",
    "cv=3,\n",
    "n_iter = 10,\n",
    "n_jobs=-1)\n",
    "\n",
    "pre_gs_inst.fit(X_train, y_train)"
   ]
  },
  {
   "cell_type": "code",
   "execution_count": 25,
   "metadata": {},
   "outputs": [
    {
     "data": {
      "text/plain": [
       "{'n_estimators': 100, 'loss': 'exponential', 'learning_rate': 1}"
      ]
     },
     "execution_count": 25,
     "metadata": {},
     "output_type": "execute_result"
    }
   ],
   "source": [
    "pre_gs_inst.best_params_"
   ]
  },
  {
   "cell_type": "markdown",
   "metadata": {},
   "source": [
    "### Best Model"
   ]
  },
  {
   "cell_type": "code",
   "execution_count": 30,
   "metadata": {},
   "outputs": [],
   "source": [
    "ada_best = AdaBoostRegressor(base_estimator=None,\n",
    "                                               learning_rate=1.0, loss='linear',\n",
    "                                               n_estimators=50,\n",
    "                                               random_state=None)\n",
    "                   \n",
    "ada_best.fit(X_train, y_train)\n",
    "predictions = ada_best.predict(X_test)"
   ]
  },
  {
   "cell_type": "code",
   "execution_count": 31,
   "metadata": {},
   "outputs": [
    {
     "name": "stdout",
     "output_type": "stream",
     "text": [
      "Mean Absolute Error: 6.12392\n",
      "Mean Squared Error: 62.86891\n",
      "R-squared scores: 0.79509\n",
      "Explained Variance Score: 0.74735\n"
     ]
    }
   ],
   "source": [
    "from sklearn.metrics import mean_squared_error, r2_score, mean_absolute_error, explained_variance_score\n",
    "\n",
    "# Mean absolute error (MAE)\n",
    "mae = mean_absolute_error(y_test.values.ravel(), predictions)\n",
    "\n",
    "# Mean squared error (MSE)\n",
    "mse = mean_squared_error(y_test.values.ravel(), predictions)\n",
    "\n",
    "# R-squared scores\n",
    "r2 = r2_score(y_test.values.ravel(), predictions)\n",
    "\n",
    "# Explained Variance Score\n",
    "evs = explained_variance_score(predictions, y_test)\n",
    "\n",
    "# Print metrics\n",
    "print('Mean Absolute Error:', round(mae, 5))\n",
    "print('Mean Squared Error:', round(mse, 5))\n",
    "print('R-squared scores:', round(r2, 5))\n",
    "print('Explained Variance Score:', round(evs, 5))"
   ]
  },
  {
   "cell_type": "markdown",
   "metadata": {},
   "source": [
    "## Feature Importance"
   ]
  },
  {
   "cell_type": "code",
   "execution_count": 33,
   "metadata": {},
   "outputs": [],
   "source": [
    "def feature_plot(importances, X_train, y_train):\n",
    "    \n",
    "    # Display the five most important features\n",
    "    indices = np.argsort(importances)[::-1]\n",
    "    columns = X.columns.values[indices[:7]]\n",
    "    values = importances[indices][:7]\n",
    "\n",
    "    # Creat the plot\n",
    "    fig = plt.figure(figsize = (15,8))\n",
    "    plt.title(\"Normalized Weights for First Ten Most Predictive Features\", fontsize = 16)\n",
    "    plt.bar(np.arange(7), values, width = 0.5, align=\"center\", color = '#FF4343', \\\n",
    "          label = \"Feature Weight\")\n",
    "    plt.bar(np.arange(7) - 0.3, np.cumsum(values), width = 0.5, align = \"center\", color = 'k', \\\n",
    "          label = \"Cumulative Feature Weight\")\n",
    "    plt.xticks(np.arange(10), columns, rotation=70)\n",
    "    plt.xlim((-0.5, 6.5))\n",
    "    plt.ylabel(\"Weight\", fontsize = 16)\n",
    "    plt.xlabel(\"Feature\", fontsize = 16)\n",
    "    \n",
    "    plt.rc('xtick', labelsize=16)\n",
    "    plt.rc('ytick', labelsize=16)\n",
    "    plt.rc('font', size=16)\n",
    "    \n",
    "    plt.legend(loc = 'upper center')\n",
    "    plt.tight_layout()\n",
    "    plt.show()  "
   ]
  },
  {
   "cell_type": "code",
   "execution_count": 34,
   "metadata": {},
   "outputs": [
    {
     "data": {
      "image/png": "[encoded data removed]",
      "text/plain": [
       "<Figure size 1080x576 with 1 Axes>"
      ]
     },
     "metadata": {
      "needs_background": "light"
     },
     "output_type": "display_data"
    }
   ],
   "source": [
    "# TODO: Train the supervised model on the training set \n",
    "model = AdaBoostRegressor().fit(X_train,y_train)\n",
    "\n",
    "# TODO: Extract the feature importances\n",
    "importances = model.feature_importances_\n",
    "\n",
    "# Plot\n",
    "feature_plot(importances, X_train, y_train)"
   ]
  },
  {
   "cell_type": "code",
   "execution_count": null,
   "metadata": {},
   "outputs": [],
   "source": []
  },
  {
   "cell_type": "code",
   "execution_count": null,
   "metadata": {},
   "outputs": [],
   "source": []
  }
 ],
 "metadata": {
  "kernelspec": {
   "display_name": "Python [conda env:nf] *",
   "language": "python",
   "name": "conda-env-nf-py"
  },
  "language_info": {
   "codemirror_mode": {
    "name": "ipython",
    "version": 3
   },
   "file_extension": ".py",
   "mimetype": "text/x-python",
   "name": "python",
   "nbconvert_exporter": "python",
   "pygments_lexer": "ipython3",
   "version": "3.6.6"
  }
 },
 "nbformat": 4,
 "nbformat_minor": 2
}
