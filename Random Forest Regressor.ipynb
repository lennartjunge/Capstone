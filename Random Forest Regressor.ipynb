{
 "cells": [
  {
   "cell_type": "code",
   "execution_count": 40,
   "metadata": {},
   "outputs": [],
   "source": [
    "import pandas as pd\n",
    "import seaborn as sns\n",
    "import matplotlib.pyplot as plt\n",
    "import numpy as np\n",
    "\n",
    "from sklearn.ensemble import RandomForestRegressor\n",
    "from sklearn.datasets import make_regression"
   ]
  },
  {
   "cell_type": "code",
   "execution_count": 41,
   "metadata": {},
   "outputs": [],
   "source": [
    "df = pd.read_csv('dataset_clean.csv')"
   ]
  },
  {
   "cell_type": "markdown",
   "metadata": {},
   "source": [
    "## Train Test Split"
   ]
  },
  {
   "cell_type": "code",
   "execution_count": 42,
   "metadata": {},
   "outputs": [],
   "source": [
    "from sklearn.model_selection import train_test_split"
   ]
  },
  {
   "cell_type": "code",
   "execution_count": 43,
   "metadata": {},
   "outputs": [],
   "source": [
    "RSEED = 101"
   ]
  },
  {
   "cell_type": "code",
   "execution_count": 44,
   "metadata": {},
   "outputs": [
    {
     "data": {
      "text/plain": [
       "Index(['Unnamed: 0', 'price', 'res_load', 'temp', 'wind', 'gen_total',\n",
       "       'gen_bio', 'gen_hyd', 'gen_windoff', 'gen_windon', 'gen_pv',\n",
       "       'gen_reother', 'gen_nuc', 'gen_bcoal', 'gen_hcoal', 'gen_gas',\n",
       "       'gen_pump', 'gen_other', 'gen_f_total', 'gen_f_windoff', 'gen_f_windon',\n",
       "       'gen_f_pv', 'gen_f_other', 'dm', 'dm_f', 'netex', 'mres+', 'mres-',\n",
       "       'sres+', 'sres-', 'FF', 'PEGAS DE M1 DAILY EGIX',\n",
       "       'API4 front year, USD/t', 'gen_delta', 'gen_windoff_delta',\n",
       "       'gen_windon_delta', 'gen_pv_delta', 'dm_delta', 'dm_gen_delta',\n",
       "       'dm_gen_ratio', 'day', 'weekend', 'month', 'season', 'hour', 'peak',\n",
       "       'lag1', 'price_change', 'price_diff', 'price_diff_pos', 'price_pos',\n",
       "       'price_diff_bins'],\n",
       "      dtype='object')"
      ]
     },
     "execution_count": 44,
     "metadata": {},
     "output_type": "execute_result"
    }
   ],
   "source": [
    "df.columns"
   ]
  },
  {
   "cell_type": "code",
   "execution_count": 92,
   "metadata": {},
   "outputs": [],
   "source": [
    "X1 = df[['res_load', 'temp', 'wind', 'gen_total',\n",
    "       'gen_bio', 'gen_hyd', 'gen_windoff', 'gen_windon',\n",
    "       'gen_reother', 'gen_nuc', 'gen_bcoal', 'gen_hcoal', 'gen_gas',\n",
    "       'gen_pump', 'gen_other', 'gen_f_total', 'gen_f_windoff', 'gen_f_windon',\n",
    "       'gen_f_other', 'dm', 'dm_f', 'netex', 'mres+', 'mres-',\n",
    "       'sres+', 'sres-', 'FF', 'PEGAS DE M1 DAILY EGIX',\n",
    "       'API4 front year, USD/t', 'gen_delta', 'gen_windoff_delta',\n",
    "       'gen_windon_delta', 'dm_delta', 'dm_gen_delta',\n",
    "       'dm_gen_ratio', 'weekend', 'month',  'hour']]"
   ]
  },
  {
   "cell_type": "code",
   "execution_count": 93,
   "metadata": {},
   "outputs": [],
   "source": [
    "X = X1\n",
    "y = df.price\n",
    "\n",
    "X_train, X_test, y_train, y_test = train_test_split(X, y, random_state=RSEED)"
   ]
  },
  {
   "cell_type": "markdown",
   "metadata": {},
   "source": [
    "## Scaling"
   ]
  },
  {
   "cell_type": "code",
   "execution_count": 94,
   "metadata": {},
   "outputs": [],
   "source": [
    "from sklearn.preprocessing import MinMaxScaler\n",
    "\n",
    "scaler = MinMaxScaler(feature_range = (0, 1))\n",
    "\n",
    "scaler.fit(X_train)\n",
    "X_train = scaler.transform(X_train)\n",
    "X_test = scaler.transform(X_test)"
   ]
  },
  {
   "cell_type": "markdown",
   "metadata": {},
   "source": [
    "## Random Forest Regressor"
   ]
  },
  {
   "cell_type": "code",
   "execution_count": 95,
   "metadata": {},
   "outputs": [],
   "source": [
    "rfr = RandomForestRegressor(random_state=RSEED, n_estimators=100)\n",
    "rfr.fit(X_train, y_train)\n",
    "predictions = rfr.predict(X_test)"
   ]
  },
  {
   "cell_type": "code",
   "execution_count": 96,
   "metadata": {},
   "outputs": [
    {
     "name": "stdout",
     "output_type": "stream",
     "text": [
      "Mean Absolute Error: 2.69227\n",
      "Mean Squared Error: 23.74911\n",
      "R-squared scores: 0.9321\n",
      "Explained Variance Score: 0.91821\n"
     ]
    }
   ],
   "source": [
    "from sklearn.metrics import mean_squared_error, r2_score, mean_absolute_error, explained_variance_score\n",
    "\n",
    "# Mean absolute error (MAE)\n",
    "mae = mean_absolute_error(y_test.values.ravel(), predictions)\n",
    "\n",
    "# Mean squared error (MSE)\n",
    "mse = mean_squared_error(y_test.values.ravel(), predictions)\n",
    "\n",
    "# R-squared scores\n",
    "r2 = r2_score(y_test.values.ravel(), predictions)\n",
    "\n",
    "# Explained Variance Score\n",
    "evs = explained_variance_score(predictions, y_test)\n",
    "\n",
    "# Print metrics\n",
    "print('Mean Absolute Error:', round(mae, 5))\n",
    "print('Mean Squared Error:', round(mse, 5))\n",
    "print('R-squared scores:', round(r2, 5))\n",
    "print('Explained Variance Score:', round(evs, 5))"
   ]
  },
  {
   "cell_type": "markdown",
   "metadata": {},
   "source": [
    "## Hyperparameter Tuning via Randomized Search"
   ]
  },
  {
   "cell_type": "code",
   "execution_count": 97,
   "metadata": {},
   "outputs": [
    {
     "data": {
      "text/plain": [
       "RandomizedSearchCV(cv=3, error_score='raise-deprecating',\n",
       "                   estimator=RandomForestRegressor(bootstrap=True,\n",
       "                                                   criterion='mse',\n",
       "                                                   max_depth=None,\n",
       "                                                   max_features='auto',\n",
       "                                                   max_leaf_nodes=None,\n",
       "                                                   min_impurity_decrease=0.0,\n",
       "                                                   min_impurity_split=None,\n",
       "                                                   min_samples_leaf=1,\n",
       "                                                   min_samples_split=2,\n",
       "                                                   min_weight_fraction_leaf=0.0,\n",
       "                                                   n_estimators='warn',\n",
       "                                                   n_jobs=None, oob_score=False,\n",
       "                                                   random_sta...\n",
       "                                                           10, 10, 10, 10, 10,\n",
       "                                                           10, 10, 10, 10, 10, ...],\n",
       "                                        'min_samples_split': [10, 15],\n",
       "                                        'n_estimators': array([ 80,  80,  81,  82,  83,  84,  84,  85,  86,  87,  88,  88,  89,\n",
       "        90,  91,  92,  93,  93,  94,  95,  96,  97,  97,  98,  99, 100,\n",
       "       101, 102, 102, 103, 104, 105, 106, 106, 107, 108, 109, 110, 111,\n",
       "       111, 112, 113, 114, 115, 115, 116, 117, 118, 119, 120])},\n",
       "                   pre_dispatch='2*n_jobs', random_state=None, refit=True,\n",
       "                   return_train_score=False, scoring=None, verbose=0)"
      ]
     },
     "execution_count": 97,
     "metadata": {},
     "output_type": "execute_result"
    }
   ],
   "source": [
    "from sklearn.model_selection import RandomizedSearchCV\n",
    "\n",
    "param_dist = {\n",
    "    'n_estimators': np.linspace(80, 120).astype(int),\n",
    "    'max_depth': [None] + list(np.linspace(3, 8).astype(int)),\n",
    "    'max_features': ['auto', 'sqrt', None] + list(np.arange(0.3, 1.0, 0.1)),\n",
    "    'max_leaf_nodes': [None] + list(np.linspace(10, 20, 500).astype(int)),\n",
    "    'min_samples_split': [10, 15],\n",
    "    'bootstrap': [True, False]\n",
    " }\n",
    "\n",
    "pre_gs_inst = RandomizedSearchCV(RandomForestRegressor(random_state=RSEED),\n",
    "param_distributions = param_dist,\n",
    "cv=3,\n",
    "n_iter = 10,\n",
    "n_jobs=-1)\n",
    "\n",
    "pre_gs_inst.fit(X_train, y_train)"
   ]
  },
  {
   "cell_type": "code",
   "execution_count": 98,
   "metadata": {},
   "outputs": [
    {
     "data": {
      "text/plain": [
       "{'n_estimators': 97,\n",
       " 'min_samples_split': 10,\n",
       " 'max_leaf_nodes': 19,\n",
       " 'max_features': 0.9000000000000001,\n",
       " 'max_depth': 5,\n",
       " 'bootstrap': True}"
      ]
     },
     "execution_count": 98,
     "metadata": {},
     "output_type": "execute_result"
    }
   ],
   "source": [
    "pre_gs_inst.best_params_"
   ]
  },
  {
   "cell_type": "markdown",
   "metadata": {},
   "source": [
    "### Best Model"
   ]
  },
  {
   "cell_type": "code",
   "execution_count": 99,
   "metadata": {},
   "outputs": [],
   "source": [
    "rfr_best = RandomForestRegressor(random_state=RSEED,\n",
    " n_estimators=91,\n",
    " min_samples_split=10,\n",
    " max_leaf_nodes=15,\n",
    " max_features=0.4,\n",
    " max_depth=5,\n",
    " bootstrap=False)\n",
    "                   \n",
    "rfr_best.fit(X_train, y_train)\n",
    "predictions = rfr_best.predict(X_test)"
   ]
  },
  {
   "cell_type": "code",
   "execution_count": 100,
   "metadata": {},
   "outputs": [
    {
     "name": "stdout",
     "output_type": "stream",
     "text": [
      "Mean Absolute Error: 4.33117\n",
      "Mean Squared Error: 47.10258\n",
      "R-squared scores: 0.86532\n",
      "Explained Variance Score: 0.79002\n"
     ]
    }
   ],
   "source": [
    "from sklearn.metrics import mean_squared_error, r2_score, mean_absolute_error, explained_variance_score\n",
    "\n",
    "# Mean absolute error (MAE)\n",
    "mae = mean_absolute_error(y_test.values.ravel(), predictions)\n",
    "\n",
    "# Mean squared error (MSE)\n",
    "mse = mean_squared_error(y_test.values.ravel(), predictions)\n",
    "\n",
    "# R-squared scores\n",
    "r2 = r2_score(y_test.values.ravel(), predictions)\n",
    "\n",
    "# Explained Variance Score\n",
    "evs = explained_variance_score(predictions, y_test)\n",
    "\n",
    "# Print metrics\n",
    "print('Mean Absolute Error:', round(mae, 5))\n",
    "print('Mean Squared Error:', round(mse, 5))\n",
    "print('R-squared scores:', round(r2, 5))\n",
    "print('Explained Variance Score:', round(evs, 5))"
   ]
  },
  {
   "cell_type": "markdown",
   "metadata": {},
   "source": [
    "## Feature Importance"
   ]
  },
  {
   "cell_type": "code",
   "execution_count": 101,
   "metadata": {},
   "outputs": [],
   "source": [
    "def feature_plot(importances, X_train, y_train):\n",
    "    \n",
    "    # Display the five most important features\n",
    "    indices = np.argsort(importances)[::-1]\n",
    "    columns = X.columns.values[indices[:7]]\n",
    "    values = importances[indices][:7]\n",
    "\n",
    "    # Creat the plot\n",
    "    fig = plt.figure(figsize = (15,8))\n",
    "    plt.title(\"Normalized Weights for First Ten Most Predictive Features\", fontsize = 16)\n",
    "    plt.bar(np.arange(7), values, width = 0.5, align=\"center\", color = '#FF4343', \\\n",
    "          label = \"Feature Weight\")\n",
    "    plt.bar(np.arange(7) - 0.3, np.cumsum(values), width = 0.5, align = \"center\", color = 'k', \\\n",
    "          label = \"Cumulative Feature Weight\")\n",
    "    plt.xticks(np.arange(10), columns, rotation=70)\n",
    "    plt.xlim((-0.5, 6.5))\n",
    "    plt.ylabel(\"Weight\", fontsize = 16)\n",
    "    plt.xlabel(\"Feature\", fontsize = 16)\n",
    "    \n",
    "    plt.rc('xtick', labelsize=16)\n",
    "    plt.rc('ytick', labelsize=16)\n",
    "    plt.rc('font', size=16)\n",
    "    \n",
    "    plt.legend(loc = 'upper center')\n",
    "    plt.tight_layout()\n",
    "    plt.show()  "
   ]
  },
  {
   "cell_type": "code",
   "execution_count": 102,
   "metadata": {},
   "outputs": [
    {
     "name": "stderr",
     "output_type": "stream",
     "text": [
      "/Users/lennartjunge/anaconda3/envs/nf/lib/python3.6/site-packages/sklearn/ensemble/forest.py:245: FutureWarning: The default value of n_estimators will change from 10 in version 0.20 to 100 in 0.22.\n",
      "  \"10 in version 0.20 to 100 in 0.22.\", FutureWarning)\n"
     ]
    },
    {
     "data": {
      "image/png": "[encoded data removed]",
      "text/plain": [
       "<Figure size 1080x576 with 1 Axes>"
      ]
     },
     "metadata": {
      "needs_background": "light"
     },
     "output_type": "display_data"
    }
   ],
   "source": [
    "# TODO: Train the supervised model on the training set \n",
    "model = RandomForestRegressor().fit(X_train,y_train)\n",
    "\n",
    "# TODO: Extract the feature importances\n",
    "importances = model.feature_importances_\n",
    "\n",
    "# Plot\n",
    "feature_plot(importances, X_train, y_train)"
   ]
  },
  {
   "cell_type": "code",
   "execution_count": null,
   "metadata": {},
   "outputs": [],
   "source": []
  },
  {
   "cell_type": "code",
   "execution_count": null,
   "metadata": {},
   "outputs": [],
   "source": []
  },
  {
   "cell_type": "code",
   "execution_count": null,
   "metadata": {},
   "outputs": [],
   "source": []
  }
 ],
 "metadata": {
  "kernelspec": {
   "display_name": "Python [conda env:nf] *",
   "language": "python",
   "name": "conda-env-nf-py"
  },
  "language_info": {
   "codemirror_mode": {
    "name": "ipython",
    "version": 3
   },
   "file_extension": ".py",
   "mimetype": "text/x-python",
   "name": "python",
   "nbconvert_exporter": "python",
   "pygments_lexer": "ipython3",
   "version": "3.6.6"
  }
 },
 "nbformat": 4,
 "nbformat_minor": 2
}
