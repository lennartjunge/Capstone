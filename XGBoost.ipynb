{
 "cells": [
  {
   "cell_type": "code",
   "execution_count": 30,
   "metadata": {},
   "outputs": [],
   "source": [
    "import pandas as pd\n",
    "import seaborn as sns\n",
    "import matplotlib.pyplot as plt\n",
    "import numpy as np\n",
    "\n",
    "from xgboost import XGBClassifier"
   ]
  },
  {
   "cell_type": "code",
   "execution_count": 31,
   "metadata": {},
   "outputs": [],
   "source": [
    "df = pd.read_csv('dataset_clean.csv')"
   ]
  },
  {
   "cell_type": "markdown",
   "metadata": {},
   "source": [
    "## Train Test Split"
   ]
  },
  {
   "cell_type": "code",
   "execution_count": 32,
   "metadata": {},
   "outputs": [],
   "source": [
    "from sklearn.model_selection import train_test_split"
   ]
  },
  {
   "cell_type": "code",
   "execution_count": 73,
   "metadata": {},
   "outputs": [],
   "source": [
    "RSEED = 101"
   ]
  },
  {
   "cell_type": "code",
   "execution_count": 74,
   "metadata": {},
   "outputs": [
    {
     "data": {
      "text/plain": [
       "Index(['Date', 'price', 'res_load', 'temp', 'wind', 'gen_total', 'gen_bio',\n",
       "       'gen_hyd', 'gen_windoff', 'gen_windon', 'gen_pv', 'gen_reother',\n",
       "       'gen_nuc', 'gen_bcoal', 'gen_hcoal', 'gen_gas', 'gen_pump', 'gen_other',\n",
       "       'gen_f_total', 'gen_f_windoff', 'gen_f_windon', 'gen_f_pv',\n",
       "       'gen_f_other', 'dm', 'dm_f', 'netex', 'mres+', 'mres-', 'sres+',\n",
       "       'sres-', 'gen_delta', 'gen_windoff_delta', 'gen_windon_delta',\n",
       "       'gen_pv_delta', 'dm_delta', 'dm_gen_delta', 'day', 'weekend', 'month',\n",
       "       'season', 'hour', 'peak', 'lag1', 'price_change', 'price_diff',\n",
       "       'price_diff_pos', 'price_pos', 'price_diff_bins', 'price_bins'],\n",
       "      dtype='object')"
      ]
     },
     "execution_count": 74,
     "metadata": {},
     "output_type": "execute_result"
    }
   ],
   "source": [
    "df.columns"
   ]
  },
  {
   "cell_type": "code",
   "execution_count": 75,
   "metadata": {},
   "outputs": [],
   "source": [
    "X1 = df[['res_load', 'temp', 'wind', 'gen_total', 'gen_bio',\n",
    "       'gen_hyd', 'gen_windoff', 'gen_windon', 'gen_pv', 'gen_reother',\n",
    "       'gen_nuc', 'gen_bcoal', 'gen_hcoal', 'gen_gas', 'gen_pump', 'gen_other',\n",
    "       'gen_f_total', 'gen_f_windoff', 'gen_f_windon', 'gen_f_pv',\n",
    "       'gen_f_other', 'dm', 'dm_f', 'netex', 'mres+', 'gen_delta', 'gen_windoff_delta', 'gen_windon_delta',\n",
    "       'gen_pv_delta', 'dm_delta', 'day', 'month', 'season', 'hour',\n",
    "       'peak']]"
   ]
  },
  {
   "cell_type": "code",
   "execution_count": 76,
   "metadata": {},
   "outputs": [],
   "source": [
    "X = X1\n",
    "y = df.price_diff_pos\n",
    "\n",
    "X_train, X_test, y_train, y_test = train_test_split(X, y, random_state=RSEED, stratify=y)"
   ]
  },
  {
   "cell_type": "code",
   "execution_count": 77,
   "metadata": {},
   "outputs": [],
   "source": [
    "#df_train = pd.concat([y_train, X_train], axis=1)"
   ]
  },
  {
   "cell_type": "code",
   "execution_count": 78,
   "metadata": {},
   "outputs": [],
   "source": [
    "#from sklearn.utils import resample\n",
    "\n",
    "#df_0 = df_train[df_train.target==0]\n",
    "#df_1 = df_train[df_train.target==1]\n",
    "\n",
    "#df_0d2 = resample(df_0, replace=False, n_samples=50000, random_state=5)\n",
    "#df_1u2 = resample(df_1, replace=True, n_samples=50000, random_state=5)\n",
    "#df_b = pd.concat([df_0d2, df_1u2])\n",
    "\n",
    "#df_train = df_b.copy()\n",
    "\n",
    "#X_train = df_train.drop('target', axis=1)\n",
    "#y_train = df_train['target']"
   ]
  },
  {
   "cell_type": "markdown",
   "metadata": {},
   "source": [
    "## Fill Missing Values"
   ]
  },
  {
   "cell_type": "code",
   "execution_count": 79,
   "metadata": {},
   "outputs": [],
   "source": [
    "from sklearn.preprocessing import MinMaxScaler\n",
    "\n",
    "scaler = MinMaxScaler(feature_range = (0, 1))\n",
    "\n",
    "scaler.fit(X_train)\n",
    "X_train = scaler.transform(X_train)\n",
    "X_test = scaler.transform(X_test)"
   ]
  },
  {
   "cell_type": "markdown",
   "metadata": {},
   "source": [
    "## XGBoost"
   ]
  },
  {
   "cell_type": "code",
   "execution_count": 80,
   "metadata": {},
   "outputs": [],
   "source": [
    "XGB = XGBClassifier(n_estimators=100)\n",
    "XGB.fit(X_train, y_train)\n",
    "predictions = XGB.predict(X_test)"
   ]
  },
  {
   "cell_type": "code",
   "execution_count": 81,
   "metadata": {},
   "outputs": [
    {
     "data": {
      "text/plain": [
       "Text(0.5, 1.0, 'Confusion matrix for XGBoost Classifier')"
      ]
     },
     "execution_count": 81,
     "metadata": {},
     "output_type": "execute_result"
    },
    {
     "data": {
      "image/png": "[encoded data removed]",
      "text/plain": [
       "<Figure size 432x288 with 2 Axes>"
      ]
     },
     "metadata": {
      "needs_background": "light"
     },
     "output_type": "display_data"
    }
   ],
   "source": [
    "from sklearn.metrics import confusion_matrix\n",
    "\n",
    "colors = ['k', '#FF4343']\n",
    "colors_r = ['#FF4343', 'k', '#FF4343', 'k']\n",
    "\n",
    "plt.figure()\n",
    "sns.heatmap(confusion_matrix(y_test, predictions), annot=True, annot_kws={\"size\":30}, cmap=colors_r, center=2010, square=True, fmt='.0f')\n",
    "plt.ylabel('True label')\n",
    "plt.xlabel('Predicted label')\n",
    "plt.title('Confusion matrix for XGBoost Classifier')"
   ]
  },
  {
   "cell_type": "code",
   "execution_count": 82,
   "metadata": {},
   "outputs": [
    {
     "name": "stdout",
     "output_type": "stream",
     "text": [
      "              precision    recall  f1-score   support\n",
      "\n",
      "           0       0.82      0.88      0.85      2285\n",
      "           1       0.84      0.77      0.80      1879\n",
      "\n",
      "    accuracy                           0.83      4164\n",
      "   macro avg       0.83      0.82      0.83      4164\n",
      "weighted avg       0.83      0.83      0.83      4164\n",
      "\n"
     ]
    }
   ],
   "source": [
    "from sklearn.metrics import classification_report\n",
    "print(classification_report(y_test, predictions))"
   ]
  },
  {
   "cell_type": "code",
   "execution_count": 83,
   "metadata": {},
   "outputs": [
    {
     "data": {
      "text/plain": [
       "0.8236342483955452"
      ]
     },
     "execution_count": 83,
     "metadata": {},
     "output_type": "execute_result"
    }
   ],
   "source": [
    "from sklearn.metrics import roc_auc_score\n",
    "roc_auc_score(y_test, predictions)"
   ]
  },
  {
   "cell_type": "markdown",
   "metadata": {},
   "source": [
    "## Hyperparameter Tuning via Randomized Search"
   ]
  },
  {
   "cell_type": "code",
   "execution_count": 84,
   "metadata": {},
   "outputs": [],
   "source": [
    "X1 = df[['res_load', 'temp', 'wind', 'gen_total', 'gen_bio',\n",
    "       'gen_hyd', 'gen_windoff', 'gen_windon', 'gen_pv', 'gen_reother',\n",
    "       'gen_nuc', 'gen_bcoal', 'gen_hcoal', 'gen_gas', 'gen_pump', 'gen_other',\n",
    "       'gen_f_total', 'gen_f_windoff', 'gen_f_windon', 'gen_f_pv',\n",
    "       'gen_f_other', 'dm', 'dm_f', 'netex', 'mres+', 'gen_delta', 'gen_windoff_delta', 'gen_windon_delta',\n",
    "       'gen_pv_delta', 'dm_delta', 'day', 'month', 'season', 'hour',\n",
    "       'peak']]"
   ]
  },
  {
   "cell_type": "code",
   "execution_count": 85,
   "metadata": {},
   "outputs": [],
   "source": [
    "X = X1\n",
    "y = df.price_diff_pos\n",
    "\n",
    "X_train, X_test, y_train, y_test = train_test_split(X, y, test_size=0.25, random_state=RSEED, stratify=y)"
   ]
  },
  {
   "cell_type": "code",
   "execution_count": 86,
   "metadata": {},
   "outputs": [],
   "source": [
    "#df_train_s = pd.concat([y_train_s, X_train_s], axis=1)"
   ]
  },
  {
   "cell_type": "code",
   "execution_count": 87,
   "metadata": {},
   "outputs": [],
   "source": [
    "#from sklearn.utils import resample\n",
    "\n",
    "#df_0_s = df_train_s[df_train_s.target==0]\n",
    "#df_1_s = df_train_s[df_train_s.target==1]\n",
    "\n",
    "#df_0d2_s = resample(df_0_s, replace=False, n_samples=10000, random_state=5)\n",
    "#df_1u2_s = resample(df_1_s, replace=True, n_samples=10000, random_state=5)\n",
    "#df_b_s = pd.concat([df_0d2_s, df_1u2_s])\n",
    "\n",
    "#df_train_s = df_b_s.copy()\n",
    "\n",
    "#X_train_s = df_train_s.drop('target', axis=1)\n",
    "#y_train_s = df_train_s['target']"
   ]
  },
  {
   "cell_type": "code",
   "execution_count": 88,
   "metadata": {},
   "outputs": [],
   "source": [
    "scaler = MinMaxScaler(feature_range = (0, 1))\n",
    "\n",
    "scaler.fit(X_train)\n",
    "X_train_s = scaler.transform(X_train)\n",
    "X_test_s = scaler.transform(X_test)"
   ]
  },
  {
   "cell_type": "code",
   "execution_count": 89,
   "metadata": {},
   "outputs": [
    {
     "name": "stdout",
     "output_type": "stream",
     "text": [
      "Fitting 3 folds for each of 10 candidates, totalling 30 fits\n"
     ]
    },
    {
     "name": "stderr",
     "output_type": "stream",
     "text": [
      "[Parallel(n_jobs=-1)]: Using backend LokyBackend with 4 concurrent workers.\n",
      "[Parallel(n_jobs=-1)]: Done  30 out of  30 | elapsed:   12.4s finished\n"
     ]
    },
    {
     "data": {
      "text/plain": [
       "XGBClassifier(base_estimator=DecisionTreeClassifier(class_weight=None,\n",
       "                                                    criterion='gini',\n",
       "                                                    max_depth=2,\n",
       "                                                    max_features=None,\n",
       "                                                    max_leaf_nodes=None,\n",
       "                                                    min_impurity_decrease=0.0,\n",
       "                                                    min_impurity_split=None,\n",
       "                                                    min_samples_leaf=1,\n",
       "                                                    min_samples_split=10,\n",
       "                                                    min_weight_fraction_leaf=0.0,\n",
       "                                                    presort=False,\n",
       "                                                    random_state=None,\n",
       "                                                    splitter='best'),\n",
       "              base_score=0.5, booster='gbtree', colsample_bylevel=1,\n",
       "              colsample_bytree=1, gamma=0, learning_rate=1.0, max_delta_step=0,\n",
       "              max_depth=3, min_child_weight=1, missing=None, n_estimators=25,\n",
       "              n_jobs=1, nthread=None, objective='binary:logistic',\n",
       "              random_state=101, reg_alpha=0, reg_lambda=1, scale_pos_weight=1,\n",
       "              seed=None, silent=True, subsample=1)"
      ]
     },
     "execution_count": 89,
     "metadata": {},
     "output_type": "execute_result"
    }
   ],
   "source": [
    "from sklearn.model_selection import RandomizedSearchCV\n",
    "from sklearn.metrics import make_scorer\n",
    "from sklearn.metrics import fbeta_score\n",
    "from sklearn.tree import DecisionTreeClassifier\n",
    "\n",
    "# TODO: Initialize the classifier\n",
    "estimator = XGBClassifier(base_estimator=DecisionTreeClassifier(), random_state=RSEED)\n",
    "\n",
    "# TODO: Create the parameters list you wish to tune\n",
    "param_grid = {'n_estimators' : [25, 200], \n",
    "              'learning_rate' : [1., 5],\n",
    "              'base_estimator__min_samples_split' : np.arange(6, 12, 2),\n",
    "              'base_estimator__max_depth' : np.arange(1, 4, 1)\n",
    "             }\n",
    "\n",
    "# TODO: Make an fbeta_score scoring object\n",
    "scorer = make_scorer(fbeta_score,beta=0.5)\n",
    "\n",
    "# TODO: Perform grid search on the classifier using 'scorer' as the scoring method\n",
    "grid_search = RandomizedSearchCV(estimator, param_grid, scoring=scorer, n_jobs = -1,\n",
    "                                cv = 3, n_iter = 10, verbose = 1, random_state=RSEED)\n",
    "\n",
    "# TODO: Fit the grid search object to the training data and find the optimal parameters\n",
    "gs_fit = grid_search.fit(X_train, y_train)\n",
    "\n",
    "# Get the estimator\n",
    "gs_fit.best_estimator_\n",
    "\n",
    "# Make predictions using the unoptimized and model\n",
    "#predictions = (clf.fit(X_train_s, y_train_s)).predict(X_test_s)\n",
    "#best_predictions = best_clf.predict(X_test_s)"
   ]
  },
  {
   "cell_type": "markdown",
   "metadata": {},
   "source": [
    "### Best Model"
   ]
  },
  {
   "cell_type": "code",
   "execution_count": 96,
   "metadata": {},
   "outputs": [],
   "source": [
    "XGB_best = XGBClassifier(base_estimator=DecisionTreeClassifier(class_weight=None,\n",
    "                                                         criterion='gini',\n",
    "                                                         max_depth=2,\n",
    "                                                         max_features=None,\n",
    "                                                         max_leaf_nodes=None,\n",
    "                                                         min_impurity_decrease=0.0,\n",
    "                                                         min_impurity_split=None,\n",
    "                                                         min_samples_leaf=1,\n",
    "                                                         min_samples_split=10,\n",
    "                                                         min_weight_fraction_leaf=0.0,\n",
    "                                                         presort=False,\n",
    "                                                         random_state=None,\n",
    "                                                         splitter='best'),\n",
    "                   learning_rate=1.0, n_estimators=25, random_state=101)\n",
    "XGB_best.fit(X_train, y_train)\n",
    "predictions = XGB_best.predict(X_test)"
   ]
  },
  {
   "cell_type": "code",
   "execution_count": 97,
   "metadata": {},
   "outputs": [
    {
     "data": {
      "text/plain": [
       "Text(0.5, 1.0, 'Confusion matrix for XGBoost Classifier')"
      ]
     },
     "execution_count": 97,
     "metadata": {},
     "output_type": "execute_result"
    },
    {
     "data": {
      "image/png": "[encoded data removed]",
      "text/plain": [
       "<Figure size 432x288 with 2 Axes>"
      ]
     },
     "metadata": {
      "needs_background": "light"
     },
     "output_type": "display_data"
    }
   ],
   "source": [
    "plt.rc('xtick', labelsize=16)\n",
    "plt.rc('ytick', labelsize=16)\n",
    "plt.rc('font', size=16)\n",
    "\n",
    "colors = ['k', '#FF4343']\n",
    "colors_r = ['#FF4343', 'k', '#FF4343', 'k']\n",
    "plt.figure()\n",
    "sns.heatmap(confusion_matrix(y_test, predictions), annot=True, annot_kws={\"size\":30}, cmap=colors_r, center=2000, square=True, fmt='.0f')\n",
    "plt.ylabel('True label')\n",
    "plt.xlabel('Predicted label')\n",
    "plt.title('Confusion matrix for XGBoost Classifier')"
   ]
  },
  {
   "cell_type": "code",
   "execution_count": 98,
   "metadata": {},
   "outputs": [
    {
     "name": "stdout",
     "output_type": "stream",
     "text": [
      "              precision    recall  f1-score   support\n",
      "\n",
      "           0       0.82      0.85      0.83      2285\n",
      "           1       0.81      0.77      0.79      1879\n",
      "\n",
      "    accuracy                           0.81      4164\n",
      "   macro avg       0.81      0.81      0.81      4164\n",
      "weighted avg       0.81      0.81      0.81      4164\n",
      "\n"
     ]
    }
   ],
   "source": [
    "print(classification_report(y_test, predictions))"
   ]
  },
  {
   "cell_type": "markdown",
   "metadata": {},
   "source": [
    "### Cross Validation"
   ]
  },
  {
   "cell_type": "code",
   "execution_count": 27,
   "metadata": {},
   "outputs": [
    {
     "name": "stdout",
     "output_type": "stream",
     "text": [
      "Recall 0.7600209556533066 [0.75177305 0.75265957 0.77748227 0.75066548 0.7675244 ]\n"
     ]
    }
   ],
   "source": [
    "from sklearn.model_selection import cross_val_score\n",
    "recall = cross_val_score(XGB_best, X_train, y_train, cv=5, scoring='recall')\n",
    "print('Recall', np.mean(recall), recall)"
   ]
  },
  {
   "cell_type": "markdown",
   "metadata": {},
   "source": [
    "## Feature Importance"
   ]
  },
  {
   "cell_type": "code",
   "execution_count": 28,
   "metadata": {},
   "outputs": [],
   "source": [
    "def feature_plot(importances, X_train, y_train):\n",
    "    \n",
    "    # Display the five most important features\n",
    "    indices = np.argsort(importances)[::-1]\n",
    "    columns = X.columns.values[indices[:7]]\n",
    "    values = importances[indices][:7]\n",
    "\n",
    "    # Creat the plot\n",
    "    fig = plt.figure(figsize = (15,8))\n",
    "    plt.title(\"Normalized Weights for First Ten Most Predictive Features\", fontsize = 16)\n",
    "    plt.bar(np.arange(7), values, width = 0.5, align=\"center\", color = '#FF4343', \\\n",
    "          label = \"Feature Weight\")\n",
    "    plt.bar(np.arange(7) - 0.3, np.cumsum(values), width = 0.5, align = \"center\", color = 'k', \\\n",
    "          label = \"Cumulative Feature Weight\")\n",
    "    plt.xticks(np.arange(10), columns, rotation=70)\n",
    "    plt.xlim((-0.5, 6.5))\n",
    "    plt.ylabel(\"Weight\", fontsize = 16)\n",
    "    plt.xlabel(\"Feature\", fontsize = 16)\n",
    "    \n",
    "    plt.rc('xtick', labelsize=16)\n",
    "    plt.rc('ytick', labelsize=16)\n",
    "    plt.rc('font', size=16)\n",
    "    \n",
    "    plt.legend(loc = 'upper center')\n",
    "    plt.tight_layout()\n",
    "    plt.show()  "
   ]
  },
  {
   "cell_type": "code",
   "execution_count": 29,
   "metadata": {},
   "outputs": [
    {
     "data": {
      "image/png": "[encoded data removed]",
      "text/plain": [
       "<Figure size 1080x576 with 1 Axes>"
      ]
     },
     "metadata": {
      "needs_background": "light"
     },
     "output_type": "display_data"
    }
   ],
   "source": [
    "# TODO: Train the supervised model on the training set \n",
    "model = XGBClassifier().fit(X_train,y_train)\n",
    "\n",
    "# TODO: Extract the feature importances\n",
    "importances = model.feature_importances_\n",
    "\n",
    "# Plot\n",
    "feature_plot(importances, X_train, y_train)"
   ]
  },
  {
   "cell_type": "code",
   "execution_count": null,
   "metadata": {},
   "outputs": [],
   "source": []
  },
  {
   "cell_type": "code",
   "execution_count": null,
   "metadata": {},
   "outputs": [],
   "source": []
  }
 ],
 "metadata": {
  "kernelspec": {
   "display_name": "Python [conda env:nf] *",
   "language": "python",
   "name": "conda-env-nf-py"
  },
  "language_info": {
   "codemirror_mode": {
    "name": "ipython",
    "version": 3
   },
   "file_extension": ".py",
   "mimetype": "text/x-python",
   "name": "python",
   "nbconvert_exporter": "python",
   "pygments_lexer": "ipython3",
   "version": "3.6.6"
  }
 },
 "nbformat": 4,
 "nbformat_minor": 2
}
