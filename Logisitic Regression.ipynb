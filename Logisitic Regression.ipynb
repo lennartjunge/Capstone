{
 "cells": [
  {
   "cell_type": "code",
   "execution_count": 1,
   "metadata": {},
   "outputs": [],
   "source": [
    "# price bins angleichen sodass anzahl beobachtungen gleich pro bin\n",
    "# muss ich scalen?? \n",
    "# deal with data imbalance (negative prices)"
   ]
  },
  {
   "cell_type": "code",
   "execution_count": 16,
   "metadata": {},
   "outputs": [],
   "source": [
    "import pandas as pd\n",
    "import seaborn as sns\n",
    "import matplotlib.pyplot as plt\n",
    "%matplotlib inline\n",
    "plt.rcParams[\"patch.force_edgecolor\"] = True\n",
    "\n",
    "from sklearn.metrics import confusion_matrix, accuracy_score, roc_auc_score, classification_report\n",
    "from sklearn.preprocessing import MinMaxScaler, Imputer\n",
    "from sklearn.model_selection import train_test_split\n",
    "\n",
    "from sklearn.linear_model import LogisticRegression"
   ]
  },
  {
   "cell_type": "code",
   "execution_count": 17,
   "metadata": {},
   "outputs": [],
   "source": [
    "df = pd.read_csv('dataset_clean.csv')"
   ]
  },
  {
   "cell_type": "code",
   "execution_count": 18,
   "metadata": {},
   "outputs": [
    {
     "data": {
      "text/plain": [
       "Index(['Unnamed: 0', 'price', 'res_load', 'temp', 'wind', 'gen_total',\n",
       "       'gen_bio', 'gen_hyd', 'gen_windoff', 'gen_windon', 'gen_pv',\n",
       "       'gen_reother', 'gen_nuc', 'gen_bcoal', 'gen_hcoal', 'gen_gas',\n",
       "       'gen_pump', 'gen_other', 'gen_f_total', 'gen_f_windoff', 'gen_f_windon',\n",
       "       'gen_f_pv', 'gen_f_other', 'dm', 'dm_f', 'netex', 'mres+', 'mres-',\n",
       "       'sres+', 'sres-', 'FF', 'PEGAS DE M1 DAILY EGIX',\n",
       "       'API4 front year, USD/t', 'gen_delta', 'gen_windoff_delta',\n",
       "       'gen_windon_delta', 'gen_pv_delta', 'dm_delta', 'dm_gen_delta',\n",
       "       'dm_gen_ratio', 'day', 'weekend', 'month', 'season', 'hour', 'peak',\n",
       "       'lag1', 'price_change', 'price_diff', 'price_diff_pos', 'price_pos',\n",
       "       'price_diff_bins'],\n",
       "      dtype='object')"
      ]
     },
     "execution_count": 18,
     "metadata": {},
     "output_type": "execute_result"
    }
   ],
   "source": [
    "df.columns"
   ]
  },
  {
   "cell_type": "code",
   "execution_count": 19,
   "metadata": {},
   "outputs": [],
   "source": [
    "X1 = df[['res_load', 'temp', 'wind', 'gen_total',\n",
    "       'gen_bio', 'gen_hyd', 'gen_windoff', 'gen_windon',\n",
    "       'gen_reother', 'gen_nuc', 'gen_bcoal', 'gen_hcoal', 'gen_gas',\n",
    "       'gen_pump', 'gen_other', 'gen_f_total', 'gen_f_windoff', 'gen_f_windon',\n",
    "       'gen_f_other', 'dm', 'dm_f', 'netex', 'mres+', 'mres-',\n",
    "       'FF', 'PEGAS DE M1 DAILY EGIX',\n",
    "       'API4 front year, USD/t', 'gen_delta', 'gen_windoff_delta',\n",
    "       'gen_windon_delta', 'dm_delta', 'dm_gen_delta',\n",
    "       'dm_gen_ratio', 'weekend', 'month', 'hour']]"
   ]
  },
  {
   "cell_type": "code",
   "execution_count": 20,
   "metadata": {},
   "outputs": [],
   "source": [
    "X = X1\n",
    "y = df.price_pos\n",
    "\n",
    "X_train, X_test, y_train, y_test = train_test_split(X, y, random_state=5)"
   ]
  },
  {
   "cell_type": "code",
   "execution_count": 21,
   "metadata": {},
   "outputs": [],
   "source": [
    "scaler = MinMaxScaler(feature_range = (0, 1))\n",
    "\n",
    "scaler.fit(X_train)\n",
    "X_train = scaler.transform(X_train)\n",
    "X_test = scaler.transform(X_test)"
   ]
  },
  {
   "cell_type": "code",
   "execution_count": 22,
   "metadata": {},
   "outputs": [
    {
     "name": "stderr",
     "output_type": "stream",
     "text": [
      "/Users/lennartjunge/anaconda3/envs/nf/lib/python3.6/site-packages/sklearn/linear_model/logistic.py:432: FutureWarning: Default solver will be changed to 'lbfgs' in 0.22. Specify a solver to silence this warning.\n",
      "  FutureWarning)\n"
     ]
    },
    {
     "data": {
      "text/plain": [
       "LogisticRegression(C=0.0001, class_weight='balanced', dual=False,\n",
       "                   fit_intercept=True, intercept_scaling=1, l1_ratio=None,\n",
       "                   max_iter=100, multi_class='warn', n_jobs=None, penalty='l2',\n",
       "                   random_state=None, solver='warn', tol=0.0001, verbose=0,\n",
       "                   warm_start=False)"
      ]
     },
     "execution_count": 22,
     "metadata": {},
     "output_type": "execute_result"
    }
   ],
   "source": [
    "logit = LogisticRegression(C = 0.0001, class_weight='balanced')\n",
    "logit.fit(X_train, y_train)"
   ]
  },
  {
   "cell_type": "code",
   "execution_count": 23,
   "metadata": {},
   "outputs": [
    {
     "data": {
      "text/plain": [
       "array([0.50046809, 0.5009743 , 0.50080093, 0.50156241, 0.50007346,\n",
       "       0.50127619, 0.50055599, 0.50027317, 0.50019429, 0.50065586,\n",
       "       0.49992688, 0.50046407, 0.49982728, 0.50013675, 0.50098977,\n",
       "       0.50011772, 0.50186779, 0.50113087, 0.50039758, 0.50048017,\n",
       "       0.50072454, 0.5010418 , 0.50009736, 0.50055618, 0.5003352 ,\n",
       "       0.5003236 , 0.50106778, 0.50015888, 0.50090372, 0.49997887,\n",
       "       0.50019944, 0.50079855, 0.50103523, 0.50072886, 0.50136676,\n",
       "       0.50093204, 0.50090039, 0.50016391, 0.50039001, 0.49990023,\n",
       "       0.50098284, 0.50046008, 0.49976347, 0.49965678, 0.50079593,\n",
       "       0.50146095, 0.50067259, 0.50007217, 0.49996251, 0.49991559,\n",
       "       0.50002301, 0.50021758, 0.50054945, 0.50034734, 0.50068732,\n",
       "       0.5007648 , 0.50099871, 0.50100336, 0.50069128, 0.50170589,\n",
       "       0.50107228, 0.50070662, 0.50107265, 0.50110164, 0.50055994,\n",
       "       0.50045729, 0.50045364, 0.49981049, 0.50081405, 0.50036703,\n",
       "       0.50001502, 0.50036162, 0.50084918, 0.50066441, 0.50056185,\n",
       "       0.50046451, 0.50028499, 0.50047429, 0.50023199, 0.50061595,\n",
       "       0.50095578, 0.50021145, 0.50132463, 0.5006073 , 0.49976686,\n",
       "       0.50185811, 0.49986937, 0.50078862, 0.50127911, 0.50038295,\n",
       "       0.50083375, 0.50054884, 0.50029617, 0.49990096, 0.50189762,\n",
       "       0.50027575, 0.50024331, 0.50061375, 0.4999737 , 0.50131536,\n",
       "       0.50029344, 0.5003684 , 0.50053402, 0.50046949, 0.50053687,\n",
       "       0.50095098, 0.50053277, 0.49991159, 0.50014657, 0.50111586,\n",
       "       0.50079691, 0.50126811, 0.50091438, 0.50048683, 0.49988211,\n",
       "       0.50089294, 0.50021571, 0.50193239, 0.50091513, 0.50121382,\n",
       "       0.50059369, 0.50096165, 0.50061394, 0.50084908, 0.50081383,\n",
       "       0.50003226, 0.50066155, 0.50142512, 0.50053293, 0.50031598,\n",
       "       0.50014624, 0.50055589, 0.50037597, 0.50059017, 0.500222  ,\n",
       "       0.50058198, 0.50055391, 0.50147106, 0.50041743, 0.50002584,\n",
       "       0.50021617, 0.50118643, 0.50035669, 0.50094397, 0.50099077,\n",
       "       0.50109252, 0.50098731, 0.50082902, 0.50012454, 0.50035458,\n",
       "       0.50202326, 0.50031938, 0.50077999, 0.5007927 , 0.50213889,\n",
       "       0.49990535, 0.50057676, 0.49972645, 0.50245017, 0.50028059,\n",
       "       0.50101529, 0.50041856, 0.50118643, 0.50081895, 0.49970623,\n",
       "       0.50087694, 0.50052395, 0.50117165, 0.50112923, 0.50040352,\n",
       "       0.50057454, 0.50088198, 0.4995667 , 0.50017407, 0.49982889,\n",
       "       0.49997317, 0.49965998, 0.50106551, 0.50053125, 0.50025358,\n",
       "       0.50011039, 0.50179615, 0.50163349, 0.50142973, 0.50047148,\n",
       "       0.50158091, 0.50124855, 0.5009384 , 0.50065   , 0.50222726,\n",
       "       0.50098513, 0.50155   , 0.50028192, 0.5004757 , 0.50128089,\n",
       "       0.5014362 , 0.50076822, 0.50117378, 0.50072157, 0.50148744,\n",
       "       0.50052744, 0.49997191, 0.50116121, 0.50027168, 0.50057249,\n",
       "       0.5007131 , 0.50179702, 0.50008623, 0.50106621, 0.50138393,\n",
       "       0.50181907, 0.50130364, 0.5019457 , 0.50049471, 0.50007009,\n",
       "       0.50012141, 0.50034437, 0.50129566, 0.49969003, 0.50080773,\n",
       "       0.50104312, 0.50026536, 0.50068897, 0.50023458, 0.50130063,\n",
       "       0.5008018 , 0.5004159 , 0.50060344, 0.5002619 , 0.5000882 ,\n",
       "       0.50038881, 0.50027849, 0.50085448, 0.50055318, 0.50089554,\n",
       "       0.5014992 , 0.50209127, 0.50102753, 0.50076447, 0.50091127,\n",
       "       0.50122045, 0.50093276, 0.50116947, 0.500661  , 0.50062704,\n",
       "       0.50009242, 0.50049252, 0.50007337, 0.49923889, 0.50086359,\n",
       "       0.49945714, 0.50180741, 0.50054103, 0.50151942, 0.50062722,\n",
       "       0.500304  , 0.50028276, 0.50026095, 0.50102006, 0.50033262,\n",
       "       0.50072019, 0.50035974, 0.50097715, 0.50066981, 0.50026277,\n",
       "       0.50051725, 0.5007646 , 0.50110823, 0.50193593, 0.50150297,\n",
       "       0.50126315, 0.50229905, 0.50099078, 0.50040853, 0.50009395,\n",
       "       0.5010349 , 0.50035262, 0.50157516, 0.5016472 , 0.50135111,\n",
       "       0.50137935, 0.50147147, 0.50100428, 0.50084147, 0.50055346,\n",
       "       0.50154872, 0.50174847, 0.50087607, 0.50029698, 0.50018046,\n",
       "       0.50023953, 0.50082318, 0.50049373, 0.50116821, 0.50151046,\n",
       "       0.50076315, 0.50199621, 0.50110552, 0.50002885, 0.4996845 ,\n",
       "       0.50086809, 0.50106832, 0.50114691, 0.50082217, 0.50074863,\n",
       "       0.50030327, 0.50161612, 0.50092973, 0.50137141, 0.50097127,\n",
       "       0.5005738 , 0.50093322, 0.50002526, 0.50077745, 0.5010983 ,\n",
       "       0.50180528, 0.50114076, 0.49982412, 0.50081036, 0.50183287,\n",
       "       0.50016527, 0.50131468, 0.50135981, 0.50119736, 0.50020707,\n",
       "       0.50008831, 0.50045049, 0.50021576, 0.50051527, 0.50036669,\n",
       "       0.50039284, 0.50072502, 0.50075281, 0.50130272, 0.50103913,\n",
       "       0.50138245, 0.50038358, 0.50063219, 0.50051879, 0.50106438,\n",
       "       0.50115463, 0.50081972, 0.50104262, 0.50019271, 0.50039368,\n",
       "       0.50079108, 0.50123277, 0.50012803, 0.5008587 , 0.49990011,\n",
       "       0.50031312, 0.50087496, 0.50113429, 0.50086354, 0.5004135 ,\n",
       "       0.50103648, 0.4994793 , 0.50019828, 0.50048635, 0.49924752,\n",
       "       0.50097781, 0.50103644, 0.4993835 , 0.50056385, 0.50008428,\n",
       "       0.49898744, 0.50128015, 0.50050676, 0.50066578, 0.49995683,\n",
       "       0.50037741, 0.50028758, 0.50051218, 0.50021456, 0.50090263,\n",
       "       0.50042655, 0.50046425, 0.50048309, 0.50032011, 0.50133812,\n",
       "       0.50076038, 0.50048067, 0.50053959, 0.50053885, 0.50039731,\n",
       "       0.50009133, 0.49979608, 0.50013298, 0.50173827, 0.50062959,\n",
       "       0.50014688, 0.50108289, 0.50042301, 0.50114045, 0.50142438,\n",
       "       0.50136202, 0.50074386, 0.50143501, 0.50037943, 0.50131746,\n",
       "       0.50048808, 0.50083315, 0.50129343, 0.50052803, 0.50153586,\n",
       "       0.50027961, 0.50088395, 0.50071465, 0.50075383, 0.50064516,\n",
       "       0.50026853, 0.50213868, 0.49996233, 0.4995154 , 0.50016127,\n",
       "       0.50040209, 0.5004538 , 0.50097732, 0.5004929 , 0.50141338,\n",
       "       0.50060928, 0.50063078, 0.50111337, 0.50021565, 0.50119384,\n",
       "       0.5010429 , 0.50046822, 0.50070825, 0.50043397, 0.50177094,\n",
       "       0.50062019, 0.50034292, 0.50044093, 0.50106373, 0.50080025,\n",
       "       0.50130482, 0.50129409, 0.50093157, 0.50044899, 0.50013941,\n",
       "       0.50027444, 0.5007301 , 0.49976891, 0.50012961, 0.50052354,\n",
       "       0.50026622, 0.50104074, 0.50002042, 0.50136117, 0.50091056,\n",
       "       0.50037905, 0.49970502, 0.50013883, 0.50084504, 0.50044518,\n",
       "       0.49988049, 0.50141569, 0.50113132, 0.50051571, 0.50058488,\n",
       "       0.50007338, 0.50021285, 0.49952993, 0.50028892, 0.50054242,\n",
       "       0.5005862 , 0.50097066, 0.50129888, 0.5004479 , 0.50139554,\n",
       "       0.50077383, 0.50022404, 0.49975855, 0.49991135, 0.50043941,\n",
       "       0.49985433, 0.50154442, 0.49965349, 0.50054884, 0.50027168,\n",
       "       0.50052756, 0.50036518, 0.50071224, 0.50027183, 0.50053028,\n",
       "       0.49968356, 0.4993755 , 0.5003241 , 0.50087909, 0.50113921,\n",
       "       0.50188463, 0.50187096, 0.50053783, 0.5006252 , 0.50153448,\n",
       "       0.5011059 , 0.50104768, 0.50099799, 0.50042126, 0.5008077 ,\n",
       "       0.50030911, 0.50037823, 0.50067848, 0.5008322 , 0.50051783,\n",
       "       0.50023052, 0.50036189, 0.50133391, 0.50205738, 0.50068482,\n",
       "       0.50105685, 0.50064099, 0.50068847, 0.50143329, 0.50113957,\n",
       "       0.50094565, 0.50084733, 0.50050593, 0.50193677, 0.50056011,\n",
       "       0.49956538, 0.50153946, 0.50122116, 0.49989062, 0.50039519,\n",
       "       0.50011154, 0.50022133, 0.50060243, 0.50151284, 0.4998399 ,\n",
       "       0.50209627, 0.5003012 , 0.50167006, 0.50081161, 0.50097539,\n",
       "       0.50124567, 0.50068098, 0.50192615, 0.50038716, 0.50178879,\n",
       "       0.50033576, 0.50039602, 0.50031962, 0.50154642, 0.50038398,\n",
       "       0.49997294, 0.49983652, 0.50015968, 0.50053337, 0.50079965,\n",
       "       0.50153893, 0.50184858, 0.50119608, 0.50112262, 0.49998828,\n",
       "       0.50005061, 0.50038853, 0.50107866, 0.50145055, 0.50081918,\n",
       "       0.50059182, 0.49992377, 0.50009287, 0.5000766 , 0.50070167,\n",
       "       0.50067492, 0.50001561, 0.50071543, 0.5006684 , 0.50073354,\n",
       "       0.50082377, 0.50009063, 0.50024741, 0.50245214, 0.50054287,\n",
       "       0.50138164, 0.5011574 , 0.50086727, 0.50032827, 0.50126367,\n",
       "       0.5003623 , 0.50075387, 0.50105472, 0.50069388, 0.50077322,\n",
       "       0.50111519, 0.50048848, 0.49999664, 0.50081401, 0.50030097,\n",
       "       0.50120456, 0.50052628, 0.5002839 , 0.50003449, 0.49983723,\n",
       "       0.50058604, 0.50038688, 0.50186274, 0.49992564, 0.50155868,\n",
       "       0.5000962 , 0.5004779 , 0.5022661 , 0.50066214, 0.50091512,\n",
       "       0.50097932, 0.49911384, 0.50232629, 0.50088116, 0.50123028,\n",
       "       0.50012214, 0.50077847, 0.50108269, 0.50131618, 0.5005003 ,\n",
       "       0.50068004, 0.50010516, 0.49973952, 0.5008832 , 0.50067493,\n",
       "       0.500058  , 0.50061336, 0.50022926, 0.50222126, 0.50129161,\n",
       "       0.49985698, 0.5010112 , 0.50077221, 0.50050294, 0.49991767,\n",
       "       0.50204258, 0.50054054, 0.50207476, 0.50017598, 0.50053498,\n",
       "       0.50131514, 0.50054757, 0.50012516, 0.50120016, 0.50079254,\n",
       "       0.50088307, 0.50089184, 0.50047938, 0.50009938, 0.50155778,\n",
       "       0.50062818, 0.50018538, 0.50062859, 0.50161354, 0.49970659,\n",
       "       0.50099968, 0.50101619, 0.50007814, 0.50027134, 0.49954048,\n",
       "       0.50062628, 0.50112537, 0.50033574, 0.50126966, 0.50074875,\n",
       "       0.50047403, 0.50059645, 0.50054187, 0.50082796, 0.50100951,\n",
       "       0.50066579, 0.5002463 , 0.50064956, 0.50065472, 0.50017482,\n",
       "       0.50008555, 0.50176731, 0.50044358, 0.50056079, 0.50062301,\n",
       "       0.50224523, 0.50002866, 0.50057146, 0.50035265, 0.50152509,\n",
       "       0.49990252, 0.50045989, 0.49985424, 0.49958445, 0.50133163,\n",
       "       0.50050961, 0.50032561, 0.50002184, 0.50082964, 0.50015262,\n",
       "       0.50147572, 0.50073473, 0.50019671, 0.50027276, 0.4992413 ,\n",
       "       0.50082193, 0.50033984, 0.4997798 , 0.5008037 , 0.50046597,\n",
       "       0.49959104, 0.50039082, 0.50073317, 0.50179291, 0.50032263,\n",
       "       0.50156402, 0.50046866, 0.50073725, 0.50033755, 0.50038191,\n",
       "       0.50099145, 0.50138316, 0.50062503, 0.49920382, 0.50080076,\n",
       "       0.50028935, 0.5003615 , 0.50225   , 0.50062059, 0.50034719,\n",
       "       0.50027707, 0.50054181, 0.49985632, 0.50052945, 0.50103532,\n",
       "       0.49978651, 0.50007867, 0.49962264, 0.50047092, 0.50047085,\n",
       "       0.49980381, 0.50031246, 0.50094712, 0.50076047, 0.50151408,\n",
       "       0.50061571, 0.50109306, 0.50132793, 0.49992438, 0.50169116,\n",
       "       0.50151448, 0.50198397, 0.49998803, 0.49995134, 0.50007711,\n",
       "       0.50074794, 0.5004555 , 0.50135827, 0.50228969, 0.5002579 ,\n",
       "       0.50102285, 0.50033124, 0.50109648, 0.50020435, 0.49992746,\n",
       "       0.50031876, 0.50087033, 0.50127697, 0.50052765, 0.50132396,\n",
       "       0.50040611, 0.49954895, 0.50086095, 0.500946  , 0.50049009,\n",
       "       0.50037851, 0.50044387, 0.5002926 , 0.50186295, 0.50011303,\n",
       "       0.5005116 , 0.49982166, 0.50144132, 0.50022287, 0.50128451,\n",
       "       0.50055335, 0.50069812, 0.5006246 , 0.50001652, 0.50056454,\n",
       "       0.50042984, 0.50088497, 0.50062085, 0.5007249 , 0.50098071,\n",
       "       0.5004974 , 0.50156296, 0.50036543, 0.50012779, 0.49993559,\n",
       "       0.50055526, 0.50026875, 0.50105934, 0.50138348, 0.5004527 ,\n",
       "       0.50005566, 0.5002672 , 0.5001173 , 0.5000212 , 0.50062785,\n",
       "       0.50100256, 0.50068851, 0.50046563, 0.50111892, 0.50081636,\n",
       "       0.50087842, 0.50059149, 0.50038012, 0.50002533, 0.50024552,\n",
       "       0.50140062, 0.50186694, 0.50016895, 0.50017404, 0.4992325 ,\n",
       "       0.50159554, 0.50049689, 0.50051121, 0.50051191, 0.5006554 ,\n",
       "       0.50064395, 0.50127477, 0.50035896, 0.50036078, 0.50089278,\n",
       "       0.50006514, 0.50048736, 0.50034022, 0.50124749, 0.50136673,\n",
       "       0.50058449, 0.50050443, 0.50003937, 0.50116854, 0.50098646,\n",
       "       0.50151551, 0.50037544, 0.50031802, 0.4995685 , 0.50101771,\n",
       "       0.50030183, 0.50142919, 0.50066962, 0.50118007, 0.5015194 ,\n",
       "       0.50161069, 0.49945633, 0.50138995, 0.50067778, 0.49964318,\n",
       "       0.50033481, 0.5003719 , 0.50005624, 0.50050664, 0.49977541,\n",
       "       0.50021769, 0.50081789, 0.50022425, 0.5012702 , 0.50073612,\n",
       "       0.50019933, 0.50022824, 0.50030119, 0.50022615, 0.50040908,\n",
       "       0.50049731, 0.50002664, 0.50034051, 0.50070713, 0.50187515,\n",
       "       0.49952458, 0.50057785, 0.50001234, 0.5006966 , 0.50072192,\n",
       "       0.50043279, 0.49947013, 0.50078906, 0.50139521, 0.50083855,\n",
       "       0.50091601, 0.50034938, 0.4999883 , 0.50240077, 0.50010034,\n",
       "       0.50085114, 0.50031802, 0.50040573, 0.50058558, 0.50044302,\n",
       "       0.50060924, 0.50080245, 0.50093129, 0.50108097, 0.50047228,\n",
       "       0.50144429, 0.50060273, 0.50103972, 0.49993272, 0.50001649,\n",
       "       0.5013852 , 0.49953218, 0.49989255, 0.50080896, 0.50031696,\n",
       "       0.50010933, 0.50108585, 0.50072223, 0.50071547, 0.50015041,\n",
       "       0.50050092, 0.5001211 , 0.50030867, 0.50031041, 0.50063199,\n",
       "       0.50018403, 0.50058274, 0.5005847 , 0.50035048, 0.50097356,\n",
       "       0.50180455, 0.50071534, 0.50062354, 0.50045927, 0.50055629,\n",
       "       0.49960028, 0.50115539, 0.49986087, 0.50103117, 0.50074597,\n",
       "       0.50056297, 0.50064268, 0.50033912, 0.50136262, 0.50050467,\n",
       "       0.50088515, 0.5003938 , 0.50053353, 0.50064214, 0.50165502,\n",
       "       0.50051748, 0.50166089, 0.49996822, 0.50190638, 0.5010413 ,\n",
       "       0.50030716, 0.50068228, 0.50070673, 0.50149728, 0.501067  ,\n",
       "       0.50209249, 0.50102382, 0.50063178, 0.50083158, 0.49964603,\n",
       "       0.50061574, 0.50127817, 0.50058278, 0.49985974, 0.50102444,\n",
       "       0.50032572, 0.50189512, 0.50058442, 0.50015874, 0.50143596,\n",
       "       0.50023008, 0.50036714, 0.50030653, 0.50121307, 0.50078595,\n",
       "       0.50033552, 0.4999776 , 0.50027687, 0.49984376, 0.5003753 ,\n",
       "       0.50118716, 0.50050995, 0.5011707 ])"
      ]
     },
     "execution_count": 23,
     "metadata": {},
     "output_type": "execute_result"
    }
   ],
   "source": [
    "y_pred_logp = logit.predict_proba(X_test)[:, 1]\n",
    "y_pred_logp"
   ]
  },
  {
   "cell_type": "code",
   "execution_count": 24,
   "metadata": {},
   "outputs": [
    {
     "data": {
      "text/plain": [
       "array([1, 1, 1, 1, 1, 1, 1, 1, 1, 1, 0, 1, 0, 1, 1, 1, 1, 1, 1, 1, 1, 1,\n",
       "       1, 1, 1, 1, 1, 1, 1, 0, 1, 1, 1, 1, 1, 1, 1, 1, 1, 0, 1, 1, 0, 0,\n",
       "       1, 1, 1, 1, 0, 0, 1, 1, 1, 1, 1, 1, 1, 1, 1, 1, 1, 1, 1, 1, 1, 1,\n",
       "       1, 0, 1, 1, 1, 1, 1, 1, 1, 1, 1, 1, 1, 1, 1, 1, 1, 1, 0, 1, 0, 1,\n",
       "       1, 1, 1, 1, 1, 0, 1, 1, 1, 1, 0, 1, 1, 1, 1, 1, 1, 1, 1, 0, 1, 1,\n",
       "       1, 1, 1, 1, 0, 1, 1, 1, 1, 1, 1, 1, 1, 1, 1, 1, 1, 1, 1, 1, 1, 1,\n",
       "       1, 1, 1, 1, 1, 1, 1, 1, 1, 1, 1, 1, 1, 1, 1, 1, 1, 1, 1, 1, 1, 1,\n",
       "       1, 0, 1, 0, 1, 1, 1, 1, 1, 1, 0, 1, 1, 1, 1, 1, 1, 1, 0, 1, 0, 0,\n",
       "       0, 1, 1, 1, 1, 1, 1, 1, 1, 1, 1, 1, 1, 1, 1, 1, 1, 1, 1, 1, 1, 1,\n",
       "       1, 1, 1, 0, 1, 1, 1, 1, 1, 1, 1, 1, 1, 1, 1, 1, 1, 1, 1, 1, 0, 1,\n",
       "       1, 1, 1, 1, 1, 1, 1, 1, 1, 1, 1, 1, 1, 1, 1, 1, 1, 1, 1, 1, 1, 1,\n",
       "       1, 1, 1, 1, 1, 1, 0, 1, 0, 1, 1, 1, 1, 1, 1, 1, 1, 1, 1, 1, 1, 1,\n",
       "       1, 1, 1, 1, 1, 1, 1, 1, 1, 1, 1, 1, 1, 1, 1, 1, 1, 1, 1, 1, 1, 1,\n",
       "       1, 1, 1, 1, 1, 1, 1, 1, 1, 1, 1, 1, 1, 0, 1, 1, 1, 1, 1, 1, 1, 1,\n",
       "       1, 1, 1, 1, 1, 1, 1, 1, 1, 0, 1, 1, 1, 1, 1, 1, 1, 1, 1, 1, 1, 1,\n",
       "       1, 1, 1, 1, 1, 1, 1, 1, 1, 1, 1, 1, 1, 1, 1, 1, 1, 1, 1, 0, 1, 1,\n",
       "       1, 1, 1, 1, 0, 1, 1, 0, 1, 1, 0, 1, 1, 0, 1, 1, 1, 0, 1, 1, 1, 1,\n",
       "       1, 1, 1, 1, 1, 1, 1, 1, 1, 1, 1, 1, 0, 1, 1, 1, 1, 1, 1, 1, 1, 1,\n",
       "       1, 1, 1, 1, 1, 1, 1, 1, 1, 1, 1, 1, 1, 1, 1, 1, 0, 0, 1, 1, 1, 1,\n",
       "       1, 1, 1, 1, 1, 1, 1, 1, 1, 1, 1, 1, 1, 1, 1, 1, 1, 1, 1, 1, 1, 1,\n",
       "       1, 1, 0, 1, 1, 1, 1, 1, 1, 1, 1, 0, 1, 1, 1, 0, 1, 1, 1, 1, 1, 1,\n",
       "       0, 1, 1, 1, 1, 1, 1, 1, 1, 1, 0, 0, 1, 0, 1, 0, 1, 1, 1, 1, 1, 1,\n",
       "       1, 0, 0, 1, 1, 1, 1, 1, 1, 1, 1, 1, 1, 1, 1, 1, 1, 1, 1, 1, 1, 1,\n",
       "       1, 1, 1, 1, 1, 1, 1, 1, 1, 1, 1, 1, 1, 1, 0, 1, 1, 0, 1, 1, 1, 1,\n",
       "       1, 0, 1, 1, 1, 1, 1, 1, 1, 1, 1, 1, 1, 1, 1, 1, 1, 0, 0, 1, 1, 1,\n",
       "       1, 1, 1, 1, 0, 1, 1, 1, 1, 1, 1, 0, 1, 1, 1, 1, 1, 1, 1, 1, 1, 1,\n",
       "       1, 1, 1, 1, 1, 1, 1, 1, 1, 1, 1, 1, 1, 1, 1, 0, 1, 1, 1, 1, 1, 1,\n",
       "       0, 1, 1, 1, 0, 1, 1, 1, 1, 1, 1, 1, 0, 1, 1, 1, 1, 1, 1, 1, 1, 1,\n",
       "       1, 0, 1, 1, 1, 1, 1, 1, 1, 0, 1, 1, 1, 0, 1, 1, 1, 1, 1, 1, 1, 1,\n",
       "       1, 1, 1, 1, 1, 1, 1, 1, 1, 1, 1, 0, 1, 1, 1, 1, 0, 1, 1, 1, 1, 1,\n",
       "       1, 1, 1, 1, 1, 1, 1, 1, 1, 1, 1, 1, 1, 1, 1, 1, 1, 1, 1, 1, 0, 1,\n",
       "       0, 0, 1, 1, 1, 1, 1, 1, 1, 1, 1, 1, 0, 1, 1, 0, 1, 1, 0, 1, 1, 1,\n",
       "       1, 1, 1, 1, 1, 1, 1, 1, 1, 0, 1, 1, 1, 1, 1, 1, 1, 1, 0, 1, 1, 0,\n",
       "       1, 0, 1, 1, 0, 1, 1, 1, 1, 1, 1, 1, 0, 1, 1, 1, 0, 0, 1, 1, 1, 1,\n",
       "       1, 1, 1, 1, 1, 1, 0, 1, 1, 1, 1, 1, 1, 0, 1, 1, 1, 1, 1, 1, 1, 1,\n",
       "       1, 0, 1, 1, 1, 1, 1, 1, 1, 1, 1, 1, 1, 1, 1, 1, 1, 1, 1, 0, 1, 1,\n",
       "       1, 1, 1, 1, 1, 1, 1, 1, 1, 1, 1, 1, 1, 1, 1, 1, 1, 1, 1, 1, 1, 1,\n",
       "       0, 1, 1, 1, 1, 1, 1, 1, 1, 1, 1, 1, 1, 1, 1, 1, 1, 1, 1, 1, 1, 1,\n",
       "       1, 1, 0, 1, 1, 1, 1, 1, 1, 1, 0, 1, 1, 0, 1, 1, 1, 1, 0, 1, 1, 1,\n",
       "       1, 1, 1, 1, 1, 1, 1, 1, 1, 1, 1, 1, 0, 1, 1, 1, 1, 1, 0, 1, 1, 1,\n",
       "       1, 1, 0, 1, 1, 1, 1, 1, 1, 1, 1, 1, 1, 1, 1, 1, 1, 1, 0, 1, 1, 0,\n",
       "       0, 1, 1, 1, 1, 1, 1, 1, 1, 1, 1, 1, 1, 1, 1, 1, 1, 1, 1, 1, 1, 1,\n",
       "       1, 0, 1, 0, 1, 1, 1, 1, 1, 1, 1, 1, 1, 1, 1, 1, 1, 1, 0, 1, 1, 1,\n",
       "       1, 1, 1, 1, 1, 1, 1, 1, 0, 1, 1, 1, 0, 1, 1, 1, 1, 1, 1, 1, 1, 1,\n",
       "       1, 1, 1, 0, 1, 0, 1, 1, 1, 1])"
      ]
     },
     "execution_count": 24,
     "metadata": {},
     "output_type": "execute_result"
    }
   ],
   "source": [
    "y_pred_log = logit.predict(X_test)\n",
    "y_pred_log"
   ]
  },
  {
   "cell_type": "code",
   "execution_count": 25,
   "metadata": {},
   "outputs": [
    {
     "data": {
      "text/plain": [
       "array([[ 75, 441],\n",
       "       [ 24, 438]])"
      ]
     },
     "execution_count": 25,
     "metadata": {},
     "output_type": "execute_result"
    }
   ],
   "source": [
    "confusion_matrix(y_test, y_pred_log)"
   ]
  },
  {
   "cell_type": "code",
   "execution_count": 26,
   "metadata": {},
   "outputs": [
    {
     "name": "stdout",
     "output_type": "stream",
     "text": [
      "0.5245398773006135\n"
     ]
    }
   ],
   "source": [
    "print( accuracy_score(y_test, y_pred_log) )"
   ]
  },
  {
   "cell_type": "code",
   "execution_count": 27,
   "metadata": {},
   "outputs": [
    {
     "name": "stdout",
     "output_type": "stream",
     "text": [
      "              precision    recall  f1-score   support\n",
      "\n",
      "           0       0.76      0.15      0.24       516\n",
      "           1       0.50      0.95      0.65       462\n",
      "\n",
      "    accuracy                           0.52       978\n",
      "   macro avg       0.63      0.55      0.45       978\n",
      "weighted avg       0.64      0.52      0.44       978\n",
      "\n"
     ]
    }
   ],
   "source": [
    "print(classification_report(y_test, y_pred_log))"
   ]
  },
  {
   "cell_type": "code",
   "execution_count": 28,
   "metadata": {},
   "outputs": [
    {
     "data": {
      "text/plain": [
       "Text(0.5, 1.0, 'Confusion matrix for Random Forest Classifier')"
      ]
     },
     "execution_count": 28,
     "metadata": {},
     "output_type": "execute_result"
    },
    {
     "data": {
      "image/png": "[encoded data removed]",
      "text/plain": [
       "<Figure size 432x288 with 2 Axes>"
      ]
     },
     "metadata": {
      "needs_background": "light"
     },
     "output_type": "display_data"
    }
   ],
   "source": [
    "plt.rc('xtick', labelsize=16)\n",
    "plt.rc('ytick', labelsize=16)\n",
    "plt.rc('font', size=16)\n",
    "\n",
    "colors = ['k', '#FF4343']\n",
    "colors_r = ['#FF4343', 'k', '#FF4343', 'k']\n",
    "\n",
    "plt.figure()\n",
    "sns.heatmap(confusion_matrix(y_test, y_pred_log), annot=True, annot_kws={\"size\":30}, cmap=colors_r, center=1800, square=True, fmt='.0f')\n",
    "plt.ylabel('True label')\n",
    "plt.xlabel('Predicted label')\n",
    "plt.title('Confusion matrix for Random Forest Classifier')"
   ]
  },
  {
   "cell_type": "code",
   "execution_count": null,
   "metadata": {},
   "outputs": [],
   "source": []
  },
  {
   "cell_type": "code",
   "execution_count": null,
   "metadata": {},
   "outputs": [],
   "source": []
  }
 ],
 "metadata": {
  "kernelspec": {
   "display_name": "Python [conda env:nf] *",
   "language": "python",
   "name": "conda-env-nf-py"
  },
  "language_info": {
   "codemirror_mode": {
    "name": "ipython",
    "version": 3
   },
   "file_extension": ".py",
   "mimetype": "text/x-python",
   "name": "python",
   "nbconvert_exporter": "python",
   "pygments_lexer": "ipython3",
   "version": "3.6.6"
  }
 },
 "nbformat": 4,
 "nbformat_minor": 2
}
